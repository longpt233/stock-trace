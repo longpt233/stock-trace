{
 "cells": [
  {
   "cell_type": "code",
   "execution_count": 34,
   "metadata": {},
   "outputs": [
    {
     "data": {
      "text/html": [
       "<div>\n",
       "<style scoped>\n",
       "    .dataframe tbody tr th:only-of-type {\n",
       "        vertical-align: middle;\n",
       "    }\n",
       "\n",
       "    .dataframe tbody tr th {\n",
       "        vertical-align: top;\n",
       "    }\n",
       "\n",
       "    .dataframe thead th {\n",
       "        text-align: right;\n",
       "    }\n",
       "</style>\n",
       "<table border=\"1\" class=\"dataframe\">\n",
       "  <thead>\n",
       "    <tr style=\"text-align: right;\">\n",
       "      <th></th>\n",
       "      <th>title</th>\n",
       "      <th>day</th>\n",
       "      <th>link</th>\n",
       "      <th>abstract</th>\n",
       "    </tr>\n",
       "  </thead>\n",
       "  <tbody>\n",
       "    <tr>\n",
       "      <th>0</th>\n",
       "      <td>Ngân hàng lại</td>\n",
       "      <td>14/12/2021</td>\n",
       "      <td>https://thoibaotaichinhvietnam.vn/ngan-hang-la...</td>\n",
       "      <td>(TBTCO) -  Những nỗ lực cầm cự trên tham chiếu...</td>\n",
       "    </tr>\n",
       "    <tr>\n",
       "      <th>1</th>\n",
       "      <td>Vinachem bán đấu giá hơn 21 triệu cổ phiếu LAS</td>\n",
       "      <td>14/12/2021</td>\n",
       "      <td>https://thoibaotaichinhvietnam.vn/vinachem-ban...</td>\n",
       "      <td>(TBTCO) -  Vinachem sẽ đem ra đấu giá hơn 21,2...</td>\n",
       "    </tr>\n",
       "    <tr>\n",
       "      <th>2</th>\n",
       "      <td>MCO bị phạt 100 triệu đồng do không công bố th...</td>\n",
       "      <td>14/12/2021</td>\n",
       "      <td>https://thoibaotaichinhvietnam.vn/mco-bi-phat-...</td>\n",
       "      <td>(TBTCO) -  Thanh tra Ủy ban Chứng khoán Nhà nư...</td>\n",
       "    </tr>\n",
       "    <tr>\n",
       "      <th>3</th>\n",
       "      <td>Chứng khoán phái sinh: Thanh khoản các hợp đồn...</td>\n",
       "      <td>14/12/2021</td>\n",
       "      <td>https://thoibaotaichinhvietnam.vn/chung-khoan-...</td>\n",
       "      <td>(TBTCO) -  Các hợp đồng tương lai hồi phục nhẹ...</td>\n",
       "    </tr>\n",
       "    <tr>\n",
       "      <th>4</th>\n",
       "      <td>Cổ phiếu ngân hàng suy yếu, VN-Index suýt thất...</td>\n",
       "      <td>13/12/2021</td>\n",
       "      <td>https://thoibaotaichinhvietnam.vn/co-phieu-nga...</td>\n",
       "      <td>(TBTCO) -  Thị trường hôm nay thiếu chút nữa đ...</td>\n",
       "    </tr>\n",
       "  </tbody>\n",
       "</table>\n",
       "</div>"
      ],
      "text/plain": [
       "                                               title         day  \\\n",
       "0                                     Ngân hàng lại   14/12/2021   \n",
       "1     Vinachem bán đấu giá hơn 21 triệu cổ phiếu LAS  14/12/2021   \n",
       "2  MCO bị phạt 100 triệu đồng do không công bố th...  14/12/2021   \n",
       "3  Chứng khoán phái sinh: Thanh khoản các hợp đồn...  14/12/2021   \n",
       "4  Cổ phiếu ngân hàng suy yếu, VN-Index suýt thất...  13/12/2021   \n",
       "\n",
       "                                                link  \\\n",
       "0  https://thoibaotaichinhvietnam.vn/ngan-hang-la...   \n",
       "1  https://thoibaotaichinhvietnam.vn/vinachem-ban...   \n",
       "2  https://thoibaotaichinhvietnam.vn/mco-bi-phat-...   \n",
       "3  https://thoibaotaichinhvietnam.vn/chung-khoan-...   \n",
       "4  https://thoibaotaichinhvietnam.vn/co-phieu-nga...   \n",
       "\n",
       "                                            abstract  \n",
       "0  (TBTCO) -  Những nỗ lực cầm cự trên tham chiếu...  \n",
       "1  (TBTCO) -  Vinachem sẽ đem ra đấu giá hơn 21,2...  \n",
       "2  (TBTCO) -  Thanh tra Ủy ban Chứng khoán Nhà nư...  \n",
       "3  (TBTCO) -  Các hợp đồng tương lai hồi phục nhẹ...  \n",
       "4  (TBTCO) -  Thị trường hôm nay thiếu chút nữa đ...  "
      ]
     },
     "execution_count": 34,
     "metadata": {},
     "output_type": "execute_result"
    }
   ],
   "source": [
    "import pandas as pd\n",
    "\n",
    "df = pd.read_csv('./article.csv', names= [\"title\", \"day\", \"link\", \"abstract\"], header= None)\n",
    "df.head()\n"
   ]
  },
  {
   "cell_type": "code",
   "execution_count": 35,
   "metadata": {},
   "outputs": [],
   "source": [
    "df = df.groupby(\"day\")[\"title\"].apply(list)"
   ]
  },
  {
   "cell_type": "code",
   "execution_count": 36,
   "metadata": {},
   "outputs": [
    {
     "data": {
      "text/plain": [
       "day\n",
       "01/01/2015    [Chứng khoán Ngân hàng Đông Á bị phạt 125 triệ...\n",
       "01/01/2016      [VN-Index là chỉ số tăng mạnh thứ 5 tại châu Á]\n",
       "01/01/2017    [Thị trường trái phiếu chính phủ: Những dấu ấn...\n",
       "01/01/2020    [Chứng khoán Mỹ chốt năm giao dịch 2019 cao nh...\n",
       "01/02/2015        [Rủi ro đang tăng lên với cổ phiếu ngân hàng]\n",
       "                                    ...                        \n",
       "31/12/2014    [Nỗ lực tăng dòng vốn đầu tư có tổ chức từ châ...\n",
       "31/12/2015    [Chứng khoán 31/12: Thất bại tại ngưỡng 580 điểm]\n",
       "31/12/2016    [HNX 2016: Tăng trưởng tích cực trên nhiều mản...\n",
       "31/12/2019    [Năm 2020: Thị trường chứng khoán sẽ khởi đầu ...\n",
       "31/12/2020    [Báo cáo không đúng thời hạn, nhiều tổ chức cá...\n",
       "Name: title, Length: 2726, dtype: object"
      ]
     },
     "execution_count": 36,
     "metadata": {},
     "output_type": "execute_result"
    }
   ],
   "source": [
    "df"
   ]
  }
 ],
 "metadata": {
  "interpreter": {
   "hash": "e9cf28c2d9b3da5bb16a5e149a6a7ab92888b55378bb4d306efa2577adb74723"
  },
  "kernelspec": {
   "display_name": "Python 3.7.10 64-bit ('deep-learning': conda)",
   "language": "python",
   "name": "python3"
  },
  "language_info": {
   "codemirror_mode": {
    "name": "ipython",
    "version": 3
   },
   "file_extension": ".py",
   "mimetype": "text/x-python",
   "name": "python",
   "nbconvert_exporter": "python",
   "pygments_lexer": "ipython3",
   "version": "3.7.10"
  },
  "orig_nbformat": 4
 },
 "nbformat": 4,
 "nbformat_minor": 2
}
